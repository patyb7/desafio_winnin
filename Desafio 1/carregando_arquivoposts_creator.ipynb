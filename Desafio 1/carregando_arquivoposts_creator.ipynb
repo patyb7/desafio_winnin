{
 "cells": [
  {
   "cell_type": "code",
   "execution_count": null,
   "id": "e25de4ef",
   "metadata": {
    "vscode": {
     "languageId": "plaintext"
    }
   },
   "outputs": [],
   "source": [
    "# Lê o arquivo posts_creator.json.gz e salva o Dataframe como tabela Delta default.posts_creator\n",
    "from pyspark.sql.functions import *\n",
    "from pyspark.sql.types import *\n",
    "\n",
    "file_path = \"/Volumes/workspace/default/arquivos_desafio/posts_creator.json.gz\"\n",
    "df_posts_creator = spark.read.format(\"json\").load(file_path)\n",
    "df_posts_creator.printSchema()\n",
    "df_posts_creator.show(15, False)\n",
    "# Salva o DataFrame como uma tabela Delta\n",
    "df_posts_creator.write.format(\"delta\").mode(\"overwrite\").saveAsTable(\"default.posts_creator\")\n",
    "\n",
    "print(\"Tabela 'default.posts_creator' criada com sucesso!\")\n"
   ]
  },
  {
   "cell_type": "code",
   "execution_count": null,
   "id": "e4b810fd",
   "metadata": {
    "vscode": {
     "languageId": "plaintext"
    }
   },
   "outputs": [],
   "source": []
  }
 ],
 "metadata": {
  "language_info": {
   "name": "python"
  }
 },
 "nbformat": 4,
 "nbformat_minor": 5
}
