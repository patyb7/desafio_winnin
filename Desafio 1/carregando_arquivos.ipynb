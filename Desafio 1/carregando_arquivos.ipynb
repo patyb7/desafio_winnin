{
 "cells": [
  {
   "cell_type": "code",
   "execution_count": null,
   "id": "e0b9a0bb",
   "metadata": {
    "vscode": {
     "languageId": "plaintext"
    }
   },
   "outputs": [],
   "source": [
    "# Lê o arquivo wiki_pages e salva o Dataframe como tabela Delta\n",
    "\n",
    "from pyspark.sql.functions import *\n",
    "from pyspark.sql.types import *\n",
    "\n",
    "# Define o caminho do arquivo\n",
    "file_path = \"/Volumes/workspace/default/arquivos_desafio/wiki_pages.json.gz\"\n",
    "# Lê o arquivo JSON.gz em um DataFrame\n",
    "df_wiki_pages = spark.read.format(\"json\").load(file_path)\n",
    "df_wiki_pages.printSchema()\n",
    "df_wiki_pages.show(5, False)\n",
    "df_wiki_pages.write.format(\"delta\").mode(\"overwrite\").saveAsTable(\"default.creators_scrape_wiki\")\n",
    "\n",
    "# Confirma que a tabela foi criada\n",
    "print(\"Tabela 'default.creators_scrape_wiki' criada com sucesso!\")"
   ]
  }
 ],
 "metadata": {
  "language_info": {
   "name": "python"
  }
 },
 "nbformat": 4,
 "nbformat_minor": 5
}
